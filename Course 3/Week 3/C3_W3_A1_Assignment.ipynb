{
 "cells": [
  {
   "cell_type": "markdown",
   "metadata": {},
   "source": [
    "# Deep Q-Learning - Lunar Lander\n",
    "\n",
    "In this assignment, you will train an agent to land a lunar lander safely on a landing pad on the surface of the moon.\n",
    "\n",
    "\n",
    "# Outline\n",
    "- [ 1 - Import Packages <img align=\"Right\" src=\"./images/lunar_lander.gif\" width = 60% >](#1)\n",
    "- [ 2 - Hyperparameters](#2)\n",
    "- [ 3 - The Lunar Lander Environment](#3)\n",
    "  - [ 3.1 Action Space](#3.1)\n",
    "  - [ 3.2 Observation Space](#3.2)\n",
    "  - [ 3.3 Rewards](#3.3)\n",
    "  - [ 3.4 Episode Termination](#3.4)\n",
    "- [ 4 - Load the Environment](#4)\n",
    "- [ 5 - Interacting with the Gym Environment](#5)\n",
    "    - [ 5.1 Exploring the Environment's Dynamics](#5.1)\n",
    "- [ 6 - Deep Q-Learning](#6)\n",
    "  - [ 6.1 Target Network](#6.1)\n",
    "    - [ Exercise 1](#ex01)\n",
    "  - [ 6.2 Experience Replay](#6.2)\n",
    "- [ 7 - Deep Q-Learning Algorithm with Experience Replay](#7)\n",
    "  - [ Exercise 2](#ex02)\n",
    "- [ 8 - Update the Network Weights](#8)\n",
    "- [ 9 - Train the Agent](#9)\n",
    "- [ 10 - See the Trained Agent In Action](#10)\n",
    "- [ 11 - Congratulations!](#11)\n",
    "- [ 12 - References](#12)\n"
   ]
  },
  {
   "cell_type": "markdown",
   "metadata": {},
   "source": [
    "_**NOTE:** To prevent errors from the autograder, you are not allowed to edit or delete non-graded cells in this lab. Please also refrain from adding any new cells. \n",
    "**Once you have passed this assignment** and want to experiment with any of the non-graded code, you may follow the instructions at the bottom of this notebook._"
   ]
  },
  {
   "cell_type": "markdown",
   "metadata": {},
   "source": [
    "<a name=\"1\"></a>\n",
    "## 1 - Import Packages\n",
    "\n",
    "We'll make use of the following packages:\n",
    "- `numpy` is a package for scientific computing in python.\n",
    "- `deque` will be our data structure for our memory buffer.\n",
    "- `namedtuple` will be used to store the experience tuples.\n",
    "- The `gym` toolkit is a collection of environments that can be used to test reinforcement learning algorithms. We should note that in this notebook we are using `gym` version `0.24.0`.\n",
    "- `PIL.Image` and `pyvirtualdisplay` are needed to render the Lunar Lander environment.\n",
    "- We will use several modules from the `tensorflow.keras` framework for building deep learning models.\n",
    "- `utils` is a module that contains helper functions for this assignment. You do not need to modify the code in this file.\n",
    "\n",
    "Run the cell below to import all the necessary packages."
   ]
  },
  {
   "cell_type": "code",
   "execution_count": 1,
   "metadata": {
    "deletable": false,
    "editable": false,
    "id": "KYbOPKRtfQOr"
   },
   "outputs": [],
   "source": [
    "import time\n",
    "from collections import deque, namedtuple\n",
    "\n",
    "import gym\n",
    "import numpy as np\n",
    "import PIL.Image\n",
    "import tensorflow as tf\n",
    "import utils\n",
    "\n",
    "from pyvirtualdisplay import Display\n",
    "from tensorflow.keras import Sequential\n",
    "from tensorflow.keras.layers import Dense, Input\n",
    "from tensorflow.keras.losses import MSE\n",
    "from tensorflow.keras.optimizers import Adam"
   ]
  },
  {
   "cell_type": "code",
   "execution_count": 2,
   "metadata": {
    "deletable": false,
    "editable": false
   },
   "outputs": [],
   "source": [
    "# Set up a virtual display to render the Lunar Lander environment.\n",
    "Display(visible=0, size=(840, 480)).start();\n",
    "\n",
    "# Set the random seed for TensorFlow\n",
    "tf.random.set_seed(utils.SEED)"
   ]
  },
  {
   "cell_type": "markdown",
   "metadata": {},
   "source": [
    "<a name=\"2\"></a>\n",
    "## 2 - Hyperparameters\n",
    "\n",
    "Run the cell below to set the hyperparameters."
   ]
  },
  {
   "cell_type": "code",
   "execution_count": 3,
   "metadata": {
    "deletable": false,
    "editable": false
   },
   "outputs": [],
   "source": [
    "MEMORY_SIZE = 100_000     # size of memory buffer\n",
    "GAMMA = 0.995             # discount factor\n",
    "ALPHA = 1e-3              # learning rate  \n",
    "NUM_STEPS_FOR_UPDATE = 4  # perform a learning update every C time steps"
   ]
  },
  {
   "cell_type": "markdown",
   "metadata": {},
   "source": [
    "<a name=\"3\"></a>\n",
    "## 3 - The Lunar Lander Environment\n",
    "\n",
    "In this notebook we will be using [OpenAI's Gym Library](https://www.gymlibrary.dev/). The Gym library provides a wide variety of environments for reinforcement learning. To put it simply, an environment represents a problem or task to be solved. In this notebook, we will try to solve the Lunar Lander environment using reinforcement learning.\n",
    "\n",
    "The goal of the Lunar Lander environment is to land the lunar lander safely on the landing pad on the surface of the moon. The landing pad is designated by two flag poles and its center is at coordinates `(0,0)` but the lander is also allowed to land outside of the landing pad. The lander starts at the top center of the environment with a random initial force applied to its center of mass and has infinite fuel. The environment is considered solved if you get `200` points. \n",
    "\n",
    "<br>\n",
    "<br>\n",
    "<figure>\n",
    "  <img src = \"images/lunar_lander.gif\" width = 40%>\n",
    "      <figcaption style = \"text-align: center; font-style: italic\">Fig 1. Lunar Lander Environment.</figcaption>\n",
    "</figure>\n",
    "\n",
    "\n",
    "\n",
    "<a name=\"3.1\"></a>\n",
    "### 3.1 Action Space\n",
    "\n",
    "The agent has four discrete actions available:\n",
    "\n",
    "* Do nothing.\n",
    "* Fire right engine.\n",
    "* Fire main engine.\n",
    "* Fire left engine.\n",
    "\n",
    "Each action has a corresponding numerical value:\n",
    "\n",
    "```python\n",
    "Do nothing = 0\n",
    "Fire right engine = 1\n",
    "Fire main engine = 2\n",
    "Fire left engine = 3\n",
    "```\n",
    "\n",
    "<a name=\"3.2\"></a>\n",
    "### 3.2 Observation Space\n",
    "\n",
    "The agent's observation space consists of a state vector with 8 variables:\n",
    "\n",
    "* Its $(x,y)$ coordinates. The landing pad is always at coordinates $(0,0)$.\n",
    "* Its linear velocities $(\\dot x,\\dot y)$.\n",
    "* Its angle $\\theta$.\n",
    "* Its angular velocity $\\dot \\theta$.\n",
    "* Two booleans, $l$ and $r$, that represent whether each leg is in contact with the ground or not.\n",
    "\n",
    "<a name=\"3.3\"></a>\n",
    "### 3.3 Rewards\n",
    "\n",
    "After every step, a reward is granted. The total reward of an episode is the sum of the rewards for all the steps within that episode.\n",
    "\n",
    "For each step, the reward:\n",
    "- is increased/decreased the closer/further the lander is to the landing pad.\n",
    "- is increased/decreased the slower/faster the lander is moving.\n",
    "- is decreased the more the lander is tilted (angle not horizontal).\n",
    "- is increased by 10 points for each leg that is in contact with the ground.\n",
    "- is decreased by 0.03 points each frame a side engine is firing.\n",
    "- is decreased by 0.3 points each frame the main engine is firing.\n",
    "\n",
    "The episode receives an additional reward of -100 or +100 points for crashing or landing safely respectively.\n",
    "\n",
    "<a name=\"3.4\"></a>\n",
    "### 3.4 Episode Termination\n",
    "\n",
    "An episode ends (i.e the environment enters a terminal state) if:\n",
    "\n",
    "* The lunar lander crashes (i.e if the body of the lunar lander comes in contact with the surface of the moon).\n",
    "\n",
    "* The absolute value of the lander's $x$-coordinate is greater than 1 (i.e. it goes beyond the left or right border)\n",
    "\n",
    "You can check out the [Open AI Gym documentation](https://www.gymlibrary.dev/environments/box2d/lunar_lander/) for a full description of the environment. "
   ]
  },
  {
   "cell_type": "markdown",
   "metadata": {},
   "source": [
    "<a name=\"4\"></a>\n",
    "## 4 - Load the Environment\n",
    "\n",
    "We start by loading the `LunarLander-v2` environment from the `gym` library by using the `.make()` method. `LunarLander-v2` is the latest version of the Lunar Lander environment and you can read about its version history in the [Open AI Gym documentation](https://www.gymlibrary.dev/environments/box2d/lunar_lander/#version-history)."
   ]
  },
  {
   "cell_type": "code",
   "execution_count": 4,
   "metadata": {
    "deletable": false,
    "editable": false,
    "id": "ILVMYKewfR0n"
   },
   "outputs": [],
   "source": [
    "env = gym.make('LunarLander-v2')"
   ]
  },
  {
   "cell_type": "markdown",
   "metadata": {},
   "source": [
    "Once we load the environment we use the `.reset()` method to reset the environment to the initial state. The lander starts at the top center of the environment and we can render the first frame of the environment by using the `.render()` method."
   ]
  },
  {
   "cell_type": "code",
   "execution_count": 5,
   "metadata": {
    "deletable": false,
    "editable": false
   },
   "outputs": [
    {
     "data": {
      "image/png": "[encoded data removed]",
      "text/plain": [
       "<PIL.Image.Image image mode=RGB size=600x400 at 0x7E558CA97F90>"
      ]
     },
     "execution_count": 5,
     "metadata": {},
     "output_type": "execute_result"
    }
   ],
   "source": [
    "env.reset()\n",
    "PIL.Image.fromarray(env.render(mode='rgb_array'))"
   ]
  },
  {
   "cell_type": "markdown",
   "metadata": {},
   "source": [
    "In order to build our neural network later on we need to know the size of the state vector and the number of valid actions. We can get this information from our environment by using the `.observation_space.shape` and `action_space.n` methods, respectively."
   ]
  },
  {
   "cell_type": "code",
   "execution_count": 6,
   "metadata": {
    "deletable": false,
    "editable": false,
    "id": "x3fdqdG4CUu2"
   },
   "outputs": [
    {
     "name": "stdout",
     "output_type": "stream",
     "text": [
      "State Shape: (8,)\n",
      "Number of actions: 4\n"
     ]
    }
   ],
   "source": [
    "state_size = env.observation_space.shape\n",
    "num_actions = env.action_space.n\n",
    "\n",
    "print('State Shape:', state_size)\n",
    "print('Number of actions:', num_actions)"
   ]
  },
  {
   "cell_type": "markdown",
   "metadata": {},
   "source": [
    "<a name=\"5\"></a>\n",
    "## 5 - Interacting with the Gym Environment\n",
    "\n",
    "The Gym library implements the standard “agent-environment loop” formalism:\n",
    "\n",
    "<br>\n",
    "<center>\n",
    "<video src = \"./videos/rl_formalism.m4v\" width=\"840\" height=\"480\" controls autoplay loop poster=\"./images/rl_formalism.png\"> </video>\n",
    "<figcaption style = \"text-align:center; font-style:italic\">Fig 2. Agent-environment Loop Formalism.</figcaption>\n",
    "</center>\n",
    "<br>\n",
    "\n",
    "In the standard “agent-environment loop” formalism, an agent interacts with the environment in discrete time steps $t=0,1,2,...$. At each time step $t$, the agent uses a policy $\\pi$ to select an action $A_t$ based on its observation of the environment's state $S_t$. The agent receives a numerical reward $R_t$ and on the next time step, moves to a new state $S_{t+1}$.\n",
    "\n",
    "<a name=\"5.1\"></a>\n",
    "### 5.1 Exploring the Environment's Dynamics\n",
    "\n",
    "In Open AI's Gym environments, we use the `.step()` method to run a single time step of the environment's dynamics. In the version of `gym` that we are using the `.step()` method accepts an action and returns four values:\n",
    "\n",
    "* `observation` (**object**): an environment-specific object representing your observation of the environment. In the Lunar Lander environment this corresponds to a numpy array containing the positions and velocities of the lander as described in section [3.2 Observation Space](#3.2).\n",
    "\n",
    "\n",
    "* `reward` (**float**): amount of reward returned as a result of taking the given action. In the Lunar Lander environment this corresponds to a float of type `numpy.float64` as described in section [3.3 Rewards](#3.3).\n",
    "\n",
    "\n",
    "* `done` (**boolean**): When done is `True`, it indicates the episode has terminated and it’s time to reset the environment. \n",
    "\n",
    "\n",
    "* `info` (**dictionary**): diagnostic information useful for debugging. We won't be using this variable in this notebook but it is shown here for completeness.\n",
    "\n",
    "To begin an episode, we need to reset the environment to an initial state. We do this by using the `.reset()` method. "
   ]
  },
  {
   "cell_type": "code",
   "execution_count": 7,
   "metadata": {
    "deletable": false,
    "editable": false
   },
   "outputs": [],
   "source": [
    "# Reset the environment and get the initial state.\n",
    "current_state = env.reset()"
   ]
  },
  {
   "cell_type": "markdown",
   "metadata": {},
   "source": [
    "Once the environment is reset, the agent can start taking actions in the environment by using the `.step()` method. Note that the agent can only take one action per time step. \n",
    "\n",
    "In the cell below you can select different actions and see how the returned values change depending on the action taken. Remember that in this environment the agent has four discrete actions available and we specify them in code by using their corresponding numerical value:\n",
    "\n",
    "```python\n",
    "Do nothing = 0\n",
    "Fire right engine = 1\n",
    "Fire main engine = 2\n",
    "Fire left engine = 3\n",
    "```"
   ]
  },
  {
   "cell_type": "code",
   "execution_count": 8,
   "metadata": {
    "deletable": false
   },
   "outputs": [
    {
     "data": {
      "text/html": [
       "<style  type=\"text/css\" >\n",
       "    #T_5df023a6_fcbe_11ee_a4c7_0242ac120126 th {\n",
       "          border: 1px solid grey;\n",
       "          text-align: center;\n",
       "    }    #T_5df023a6_fcbe_11ee_a4c7_0242ac120126 tbody td {\n",
       "          border: 1px solid grey;\n",
       "          text-align: center;\n",
       "    }    #T_5df023a6_fcbe_11ee_a4c7_0242ac120126row0_col0 {\n",
       "            background-color :  grey;\n",
       "        }    #T_5df023a6_fcbe_11ee_a4c7_0242ac120126row1_col1 {\n",
       "            background-color :  grey;\n",
       "        }    #T_5df023a6_fcbe_11ee_a4c7_0242ac120126row1_col2 {\n",
       "            background-color :  grey;\n",
       "        }    #T_5df023a6_fcbe_11ee_a4c7_0242ac120126row1_col3 {\n",
       "            background-color :  grey;\n",
       "        }    #T_5df023a6_fcbe_11ee_a4c7_0242ac120126row1_col4 {\n",
       "            background-color :  grey;\n",
       "        }    #T_5df023a6_fcbe_11ee_a4c7_0242ac120126row1_col5 {\n",
       "            background-color :  grey;\n",
       "        }    #T_5df023a6_fcbe_11ee_a4c7_0242ac120126row1_col6 {\n",
       "            background-color :  grey;\n",
       "        }    #T_5df023a6_fcbe_11ee_a4c7_0242ac120126row1_col7 {\n",
       "            background-color :  grey;\n",
       "        }    #T_5df023a6_fcbe_11ee_a4c7_0242ac120126row1_col8 {\n",
       "            background-color :  grey;\n",
       "        }    #T_5df023a6_fcbe_11ee_a4c7_0242ac120126row1_col9 {\n",
       "            background-color :  grey;\n",
       "        }    #T_5df023a6_fcbe_11ee_a4c7_0242ac120126row1_col10 {\n",
       "            background-color :  grey;\n",
       "        }    #T_5df023a6_fcbe_11ee_a4c7_0242ac120126row1_col11 {\n",
       "            background-color :  grey;\n",
       "        }    #T_5df023a6_fcbe_11ee_a4c7_0242ac120126row2_col0 {\n",
       "            background-color :  grey;\n",
       "        }    #T_5df023a6_fcbe_11ee_a4c7_0242ac120126row3_col1 {\n",
       "            background-color :  grey;\n",
       "        }    #T_5df023a6_fcbe_11ee_a4c7_0242ac120126row3_col2 {\n",
       "            background-color :  grey;\n",
       "        }    #T_5df023a6_fcbe_11ee_a4c7_0242ac120126row3_col3 {\n",
       "            background-color :  grey;\n",
       "        }    #T_5df023a6_fcbe_11ee_a4c7_0242ac120126row3_col4 {\n",
       "            background-color :  grey;\n",
       "        }    #T_5df023a6_fcbe_11ee_a4c7_0242ac120126row3_col5 {\n",
       "            background-color :  grey;\n",
       "        }    #T_5df023a6_fcbe_11ee_a4c7_0242ac120126row3_col6 {\n",
       "            background-color :  grey;\n",
       "        }    #T_5df023a6_fcbe_11ee_a4c7_0242ac120126row3_col7 {\n",
       "            background-color :  grey;\n",
       "        }    #T_5df023a6_fcbe_11ee_a4c7_0242ac120126row3_col8 {\n",
       "            background-color :  grey;\n",
       "        }    #T_5df023a6_fcbe_11ee_a4c7_0242ac120126row3_col9 {\n",
       "            background-color :  grey;\n",
       "        }    #T_5df023a6_fcbe_11ee_a4c7_0242ac120126row3_col10 {\n",
       "            background-color :  grey;\n",
       "        }    #T_5df023a6_fcbe_11ee_a4c7_0242ac120126row3_col11 {\n",
       "            background-color :  grey;\n",
       "        }    #T_5df023a6_fcbe_11ee_a4c7_0242ac120126row4_col1 {\n",
       "            background-color :  grey;\n",
       "        }    #T_5df023a6_fcbe_11ee_a4c7_0242ac120126row4_col2 {\n",
       "            background-color :  grey;\n",
       "        }    #T_5df023a6_fcbe_11ee_a4c7_0242ac120126row4_col3 {\n",
       "            background-color :  grey;\n",
       "        }    #T_5df023a6_fcbe_11ee_a4c7_0242ac120126row4_col4 {\n",
       "            background-color :  grey;\n",
       "        }    #T_5df023a6_fcbe_11ee_a4c7_0242ac120126row4_col5 {\n",
       "            background-color :  grey;\n",
       "        }    #T_5df023a6_fcbe_11ee_a4c7_0242ac120126row4_col6 {\n",
       "            background-color :  grey;\n",
       "        }    #T_5df023a6_fcbe_11ee_a4c7_0242ac120126row4_col7 {\n",
       "            background-color :  grey;\n",
       "        }    #T_5df023a6_fcbe_11ee_a4c7_0242ac120126row4_col8 {\n",
       "            background-color :  grey;\n",
       "        }    #T_5df023a6_fcbe_11ee_a4c7_0242ac120126row4_col9 {\n",
       "            background-color :  grey;\n",
       "        }    #T_5df023a6_fcbe_11ee_a4c7_0242ac120126row4_col10 {\n",
       "            background-color :  grey;\n",
       "        }    #T_5df023a6_fcbe_11ee_a4c7_0242ac120126row4_col11 {\n",
       "            background-color :  grey;\n",
       "        }</style><table id=\"T_5df023a6_fcbe_11ee_a4c7_0242ac120126\" ><thead>    <tr>        <th class=\"blank level0\" ></th>        <th class=\"col_heading level0 col0\" ></th>        <th class=\"col_heading level0 col1\" colspan=8>State Vector</th>        <th class=\"col_heading level0 col9\" colspan=3>Derived from the State Vector (the closer to zero, the better)</th>    </tr>    <tr>        <th class=\"blank level1\" ></th>        <th class=\"col_heading level1 col0\" ></th>        <th class=\"col_heading level1 col1\" colspan=2>Coordinate</th>        <th class=\"col_heading level1 col3\" colspan=2>Velocity</th>        <th class=\"col_heading level1 col5\" colspan=2>Tilting</th>        <th class=\"col_heading level1 col7\" colspan=2>Ground contact</th>        <th class=\"col_heading level1 col9\" >Distance from landing pad</th>        <th class=\"col_heading level1 col10\" >Velocity</th>        <th class=\"col_heading level1 col11\" >Tilting Angle (absolute value)</th>    </tr>    <tr>        <th class=\"blank level2\" ></th>        <th class=\"col_heading level2 col0\" ></th>        <th class=\"col_heading level2 col1\" >X (Horizontal)</th>        <th class=\"col_heading level2 col2\" >Y (Vertical)</th>        <th class=\"col_heading level2 col3\" >X (Horizontal)</th>        <th class=\"col_heading level2 col4\" >Y (Vertical)</th>        <th class=\"col_heading level2 col5\" >Angle</th>        <th class=\"col_heading level2 col6\" >Angular Velocity</th>        <th class=\"col_heading level2 col7\" >Left Leg?</th>        <th class=\"col_heading level2 col8\" >Right Leg?</th>        <th class=\"col_heading level2 col9\" ></th>        <th class=\"col_heading level2 col10\" ></th>        <th class=\"col_heading level2 col11\" ></th>    </tr></thead><tbody>\n",
       "                <tr>\n",
       "                        <th id=\"T_5df023a6_fcbe_11ee_a4c7_0242ac120126level0_row0\" class=\"row_heading level0 row0\" >Current State</th>\n",
       "                        <td id=\"T_5df023a6_fcbe_11ee_a4c7_0242ac120126row0_col0\" class=\"data row0 col0\" ></td>\n",
       "                        <td id=\"T_5df023a6_fcbe_11ee_a4c7_0242ac120126row0_col1\" class=\"data row0 col1\" >0.001919</td>\n",
       "                        <td id=\"T_5df023a6_fcbe_11ee_a4c7_0242ac120126row0_col2\" class=\"data row0 col2\" >1.422301</td>\n",
       "                        <td id=\"T_5df023a6_fcbe_11ee_a4c7_0242ac120126row0_col3\" class=\"data row0 col3\" >0.194400</td>\n",
       "                        <td id=\"T_5df023a6_fcbe_11ee_a4c7_0242ac120126row0_col4\" class=\"data row0 col4\" >0.505814</td>\n",
       "                        <td id=\"T_5df023a6_fcbe_11ee_a4c7_0242ac120126row0_col5\" class=\"data row0 col5\" >-0.002217</td>\n",
       "                        <td id=\"T_5df023a6_fcbe_11ee_a4c7_0242ac120126row0_col6\" class=\"data row0 col6\" >-0.044034</td>\n",
       "                        <td id=\"T_5df023a6_fcbe_11ee_a4c7_0242ac120126row0_col7\" class=\"data row0 col7\" >False</td>\n",
       "                        <td id=\"T_5df023a6_fcbe_11ee_a4c7_0242ac120126row0_col8\" class=\"data row0 col8\" >False</td>\n",
       "                        <td id=\"T_5df023a6_fcbe_11ee_a4c7_0242ac120126row0_col9\" class=\"data row0 col9\" >1.422302</td>\n",
       "                        <td id=\"T_5df023a6_fcbe_11ee_a4c7_0242ac120126row0_col10\" class=\"data row0 col10\" >0.541885</td>\n",
       "                        <td id=\"T_5df023a6_fcbe_11ee_a4c7_0242ac120126row0_col11\" class=\"data row0 col11\" >0.002217</td>\n",
       "            </tr>\n",
       "            <tr>\n",
       "                        <th id=\"T_5df023a6_fcbe_11ee_a4c7_0242ac120126level0_row1\" class=\"row_heading level0 row1\" >Action</th>\n",
       "                        <td id=\"T_5df023a6_fcbe_11ee_a4c7_0242ac120126row1_col0\" class=\"data row1 col0\" >Do nothing</td>\n",
       "                        <td id=\"T_5df023a6_fcbe_11ee_a4c7_0242ac120126row1_col1\" class=\"data row1 col1\" ></td>\n",
       "                        <td id=\"T_5df023a6_fcbe_11ee_a4c7_0242ac120126row1_col2\" class=\"data row1 col2\" ></td>\n",
       "                        <td id=\"T_5df023a6_fcbe_11ee_a4c7_0242ac120126row1_col3\" class=\"data row1 col3\" ></td>\n",
       "                        <td id=\"T_5df023a6_fcbe_11ee_a4c7_0242ac120126row1_col4\" class=\"data row1 col4\" ></td>\n",
       "                        <td id=\"T_5df023a6_fcbe_11ee_a4c7_0242ac120126row1_col5\" class=\"data row1 col5\" ></td>\n",
       "                        <td id=\"T_5df023a6_fcbe_11ee_a4c7_0242ac120126row1_col6\" class=\"data row1 col6\" ></td>\n",
       "                        <td id=\"T_5df023a6_fcbe_11ee_a4c7_0242ac120126row1_col7\" class=\"data row1 col7\" ></td>\n",
       "                        <td id=\"T_5df023a6_fcbe_11ee_a4c7_0242ac120126row1_col8\" class=\"data row1 col8\" ></td>\n",
       "                        <td id=\"T_5df023a6_fcbe_11ee_a4c7_0242ac120126row1_col9\" class=\"data row1 col9\" ></td>\n",
       "                        <td id=\"T_5df023a6_fcbe_11ee_a4c7_0242ac120126row1_col10\" class=\"data row1 col10\" ></td>\n",
       "                        <td id=\"T_5df023a6_fcbe_11ee_a4c7_0242ac120126row1_col11\" class=\"data row1 col11\" ></td>\n",
       "            </tr>\n",
       "            <tr>\n",
       "                        <th id=\"T_5df023a6_fcbe_11ee_a4c7_0242ac120126level0_row2\" class=\"row_heading level0 row2\" >Next State</th>\n",
       "                        <td id=\"T_5df023a6_fcbe_11ee_a4c7_0242ac120126row2_col0\" class=\"data row2 col0\" ></td>\n",
       "                        <td id=\"T_5df023a6_fcbe_11ee_a4c7_0242ac120126row2_col1\" class=\"data row2 col1\" >0.003839</td>\n",
       "                        <td id=\"T_5df023a6_fcbe_11ee_a4c7_0242ac120126row2_col2\" class=\"data row2 col2\" >1.433103</td>\n",
       "                        <td id=\"T_5df023a6_fcbe_11ee_a4c7_0242ac120126row2_col3\" class=\"data row2 col3\" >0.194137</td>\n",
       "                        <td id=\"T_5df023a6_fcbe_11ee_a4c7_0242ac120126row2_col4\" class=\"data row2 col4\" >0.480094</td>\n",
       "                        <td id=\"T_5df023a6_fcbe_11ee_a4c7_0242ac120126row2_col5\" class=\"data row2 col5\" >-0.004393</td>\n",
       "                        <td id=\"T_5df023a6_fcbe_11ee_a4c7_0242ac120126row2_col6\" class=\"data row2 col6\" >-0.043519</td>\n",
       "                        <td id=\"T_5df023a6_fcbe_11ee_a4c7_0242ac120126row2_col7\" class=\"data row2 col7\" >False</td>\n",
       "                        <td id=\"T_5df023a6_fcbe_11ee_a4c7_0242ac120126row2_col8\" class=\"data row2 col8\" >False</td>\n",
       "                        <td id=\"T_5df023a6_fcbe_11ee_a4c7_0242ac120126row2_col9\" class=\"data row2 col9\" >1.433108</td>\n",
       "                        <td id=\"T_5df023a6_fcbe_11ee_a4c7_0242ac120126row2_col10\" class=\"data row2 col10\" >0.517860</td>\n",
       "                        <td id=\"T_5df023a6_fcbe_11ee_a4c7_0242ac120126row2_col11\" class=\"data row2 col11\" >0.004393</td>\n",
       "            </tr>\n",
       "            <tr>\n",
       "                        <th id=\"T_5df023a6_fcbe_11ee_a4c7_0242ac120126level0_row3\" class=\"row_heading level0 row3\" >Reward</th>\n",
       "                        <td id=\"T_5df023a6_fcbe_11ee_a4c7_0242ac120126row3_col0\" class=\"data row3 col0\" >1.104326</td>\n",
       "                        <td id=\"T_5df023a6_fcbe_11ee_a4c7_0242ac120126row3_col1\" class=\"data row3 col1\" ></td>\n",
       "                        <td id=\"T_5df023a6_fcbe_11ee_a4c7_0242ac120126row3_col2\" class=\"data row3 col2\" ></td>\n",
       "                        <td id=\"T_5df023a6_fcbe_11ee_a4c7_0242ac120126row3_col3\" class=\"data row3 col3\" ></td>\n",
       "                        <td id=\"T_5df023a6_fcbe_11ee_a4c7_0242ac120126row3_col4\" class=\"data row3 col4\" ></td>\n",
       "                        <td id=\"T_5df023a6_fcbe_11ee_a4c7_0242ac120126row3_col5\" class=\"data row3 col5\" ></td>\n",
       "                        <td id=\"T_5df023a6_fcbe_11ee_a4c7_0242ac120126row3_col6\" class=\"data row3 col6\" ></td>\n",
       "                        <td id=\"T_5df023a6_fcbe_11ee_a4c7_0242ac120126row3_col7\" class=\"data row3 col7\" ></td>\n",
       "                        <td id=\"T_5df023a6_fcbe_11ee_a4c7_0242ac120126row3_col8\" class=\"data row3 col8\" ></td>\n",
       "                        <td id=\"T_5df023a6_fcbe_11ee_a4c7_0242ac120126row3_col9\" class=\"data row3 col9\" ></td>\n",
       "                        <td id=\"T_5df023a6_fcbe_11ee_a4c7_0242ac120126row3_col10\" class=\"data row3 col10\" ></td>\n",
       "                        <td id=\"T_5df023a6_fcbe_11ee_a4c7_0242ac120126row3_col11\" class=\"data row3 col11\" ></td>\n",
       "            </tr>\n",
       "            <tr>\n",
       "                        <th id=\"T_5df023a6_fcbe_11ee_a4c7_0242ac120126level0_row4\" class=\"row_heading level0 row4\" >Episode Terminated</th>\n",
       "                        <td id=\"T_5df023a6_fcbe_11ee_a4c7_0242ac120126row4_col0\" class=\"data row4 col0\" >False</td>\n",
       "                        <td id=\"T_5df023a6_fcbe_11ee_a4c7_0242ac120126row4_col1\" class=\"data row4 col1\" ></td>\n",
       "                        <td id=\"T_5df023a6_fcbe_11ee_a4c7_0242ac120126row4_col2\" class=\"data row4 col2\" ></td>\n",
       "                        <td id=\"T_5df023a6_fcbe_11ee_a4c7_0242ac120126row4_col3\" class=\"data row4 col3\" ></td>\n",
       "                        <td id=\"T_5df023a6_fcbe_11ee_a4c7_0242ac120126row4_col4\" class=\"data row4 col4\" ></td>\n",
       "                        <td id=\"T_5df023a6_fcbe_11ee_a4c7_0242ac120126row4_col5\" class=\"data row4 col5\" ></td>\n",
       "                        <td id=\"T_5df023a6_fcbe_11ee_a4c7_0242ac120126row4_col6\" class=\"data row4 col6\" ></td>\n",
       "                        <td id=\"T_5df023a6_fcbe_11ee_a4c7_0242ac120126row4_col7\" class=\"data row4 col7\" ></td>\n",
       "                        <td id=\"T_5df023a6_fcbe_11ee_a4c7_0242ac120126row4_col8\" class=\"data row4 col8\" ></td>\n",
       "                        <td id=\"T_5df023a6_fcbe_11ee_a4c7_0242ac120126row4_col9\" class=\"data row4 col9\" ></td>\n",
       "                        <td id=\"T_5df023a6_fcbe_11ee_a4c7_0242ac120126row4_col10\" class=\"data row4 col10\" ></td>\n",
       "                        <td id=\"T_5df023a6_fcbe_11ee_a4c7_0242ac120126row4_col11\" class=\"data row4 col11\" ></td>\n",
       "            </tr>\n",
       "    </tbody></table>"
      ],
      "text/plain": [
       "<pandas.io.formats.style.Styler at 0x7e54e4ad3450>"
      ]
     },
     "metadata": {},
     "output_type": "display_data"
    }
   ],
   "source": [
    "# Select an action\n",
    "action = 0\n",
    "\n",
    "# Run a single time step of the environment's dynamics with the given action.\n",
    "next_state, reward, done, _ = env.step(action)\n",
    "\n",
    "# Display table with values.\n",
    "utils.display_table(current_state, action, next_state, reward, done)\n",
    "\n",
    "# Replace the `current_state` with the state after the action is taken\n",
    "current_state = next_state"
   ]
  },
  {
   "cell_type": "markdown",
   "metadata": {},
   "source": [
    "In practice, when we train the agent we use a loop to allow the agent to take many consecutive actions during an episode."
   ]
  },
  {
   "cell_type": "markdown",
   "metadata": {},
   "source": [
    "<a name=\"6\"></a>\n",
    "## 6 - Deep Q-Learning\n",
    "\n",
    "In cases where both the state and action space are discrete we can estimate the action-value function iteratively by using the Bellman equation:\n",
    "\n",
    "$$\n",
    "Q_{i+1}(s,a) = R + \\gamma \\max_{a'}Q_i(s',a')\n",
    "$$\n",
    "\n",
    "This iterative method converges to the optimal action-value function $Q^*(s,a)$ as $i\\to\\infty$. This means that the agent just needs to gradually explore the state-action space and keep updating the estimate of $Q(s,a)$ until it converges to the optimal action-value function $Q^*(s,a)$. However, in cases where the state space is continuous it becomes practically impossible to explore the entire state-action space. Consequently, this also makes it practically impossible to gradually estimate $Q(s,a)$ until it converges to $Q^*(s,a)$.\n",
    "\n",
    "In the Deep $Q$-Learning, we solve this problem by using a neural network to estimate the action-value function $Q(s,a)\\approx Q^*(s,a)$. We call this neural network a $Q$-Network and it can be trained by adjusting its weights at each iteration to minimize the mean-squared error in the Bellman equation.\n",
    "\n",
    "Unfortunately, using neural networks in reinforcement learning to estimate action-value functions has proven to be highly unstable. Luckily, there's a couple of techniques that can be employed to avoid instabilities. These techniques consist of using a ***Target Network*** and ***Experience Replay***. We will explore these two techniques in the following sections."
   ]
  },
  {
   "cell_type": "markdown",
   "metadata": {},
   "source": [
    "<a name=\"6.1\"></a>\n",
    "### 6.1 Target Network\n",
    "\n",
    "We can train the $Q$-Network by adjusting it's weights at each iteration to minimize the mean-squared error in the Bellman equation, where the target values are given by:\n",
    "\n",
    "$$\n",
    "y = R + \\gamma \\max_{a'}Q(s',a';w)\n",
    "$$\n",
    "\n",
    "where $w$ are the weights of the $Q$-Network. This means that we are adjusting the weights $w$ at each iteration to minimize the following error:\n",
    "\n",
    "$$\n",
    "\\overbrace{\\underbrace{R + \\gamma \\max_{a'}Q(s',a'; w)}_{\\rm {y~target}} - Q(s,a;w)}^{\\rm {Error}}\n",
    "$$\n",
    "\n",
    "Notice that this forms a problem because the $y$ target is changing on every iteration. Having a constantly moving target can lead to oscillations and instabilities. To avoid this, we can create\n",
    "a separate neural network for generating the $y$ targets. We call this separate neural network the **target $\\hat Q$-Network** and it will have the same architecture as the original $Q$-Network. By using the target $\\hat Q$-Network, the above error becomes:\n",
    "\n",
    "$$\n",
    "\\overbrace{\\underbrace{R + \\gamma \\max_{a'}\\hat{Q}(s',a'; w^-)}_{\\rm {y~target}} - Q(s,a;w)}^{\\rm {Error}}\n",
    "$$\n",
    "\n",
    "where $w^-$ and $w$ are the weights of the target $\\hat Q$-Network and $Q$-Network, respectively.\n",
    "\n",
    "In practice, we will use the following algorithm: every $C$ time steps we will use the $\\hat Q$-Network to generate the $y$ targets and update the weights of the target $\\hat Q$-Network using the weights of the $Q$-Network. We will update the weights $w^-$ of the the target $\\hat Q$-Network using a **soft update**. This means that we will update the weights $w^-$ using the following rule:\n",
    " \n",
    "$$\n",
    "w^-\\leftarrow \\tau w + (1 - \\tau) w^-\n",
    "$$\n",
    "\n",
    "where $\\tau\\ll 1$. By using the soft update, we are ensuring that the target values, $y$, change slowly, which greatly improves the stability of our learning algorithm."
   ]
  },
  {
   "cell_type": "markdown",
   "metadata": {},
   "source": [
    "<a name=\"ex01\"></a>\n",
    "### Exercise 1\n",
    "\n",
    "In this exercise you will create the $Q$ and target $\\hat Q$ networks and set the optimizer. Remember that the Deep $Q$-Network (DQN) is a neural network that approximates the action-value function $Q(s,a)\\approx Q^*(s,a)$. It does this by learning how to map states to $Q$ values.\n",
    "\n",
    "To solve the Lunar Lander environment, we are going to employ a DQN with the following architecture:\n",
    "\n",
    "* An `Input` layer that takes `state_size` as input.\n",
    "\n",
    "* A `Dense` layer with `64` units and a `relu` activation function.\n",
    "\n",
    "* A `Dense` layer with `64` units and a `relu` activation function.\n",
    "\n",
    "* A `Dense` layer with `num_actions` units and a `linear` activation function. This will be the output layer of our network.\n",
    "\n",
    "\n",
    "In the cell below you should create the $Q$-Network and the target $\\hat Q$-Network using the model architecture described above. Remember that both the $Q$-Network and the target $\\hat Q$-Network have the same architecture.\n",
    "\n",
    "Lastly, you should set `Adam` as the optimizer with a learning rate equal to `ALPHA`. Recall that `ALPHA` was defined in the [Hyperparameters](#2) section. We should note that for this exercise you should use the already imported packages:\n",
    "```python\n",
    "from tensorflow.keras.layers import Dense, Input\n",
    "from tensorflow.keras.optimizers import Adam\n",
    "```"
   ]
  },
  {
   "cell_type": "code",
   "execution_count": 23,
   "metadata": {
    "deletable": false
   },
   "outputs": [],
   "source": [
    "# UNQ_C1\n",
    "# GRADED CELL\n",
    "\n",
    "# Create the Q-Network\n",
    "q_network = Sequential([\n",
    "    ### START CODE HERE ### \n",
    "    Input(shape=state_size),\n",
    "    Dense(units=64, activation='relu'),\n",
    "    Dense(units=64, activation='relu'),\n",
    "    Dense(units=num_actions, activation='linear')\n",
    "    ### END CODE HERE ### \n",
    "    ])\n",
    "\n",
    "# Create the target Q^-Network\n",
    "target_q_network = Sequential([\n",
    "    ### START CODE HERE ### \n",
    "    Input(shape=state_size),\n",
    "    Dense(units=64, activation='relu'),\n",
    "    Dense(units=64, activation='relu'),\n",
    "    Dense(units=num_actions, activation='linear')\n",
    "    ### END CODE HERE ###\n",
    "    ])\n",
    "\n",
    "### START CODE HERE ### \n",
    "optimizer = Adam(learning_rate=ALPHA)\n",
    "### END CODE HERE ###"
   ]
  },
  {
   "cell_type": "code",
   "execution_count": 24,
   "metadata": {
    "deletable": false,
    "editable": false
   },
   "outputs": [
    {
     "name": "stdout",
     "output_type": "stream",
     "text": [
      "\u001b[92mAll tests passed!\n",
      "\u001b[92mAll tests passed!\n",
      "\u001b[92mAll tests passed!\n"
     ]
    }
   ],
   "source": [
    "# UNIT TEST\n",
    "from public_tests import *\n",
    "\n",
    "test_network(q_network)\n",
    "test_network(target_q_network)\n",
    "test_optimizer(optimizer, ALPHA) "
   ]
  },
  {
   "cell_type": "markdown",
   "metadata": {},
   "source": [
    "<details>\n",
    "  <summary><font size=\"3\" color=\"darkgreen\"><b>Click for hints</b></font></summary>\n",
    "    \n",
    "```python\n",
    "# Create the Q-Network\n",
    "q_network = Sequential([\n",
    "    Input(shape=state_size),                      \n",
    "    Dense(units=64, activation='relu'),            \n",
    "    Dense(units=64, activation='relu'),            \n",
    "    Dense(units=num_actions, activation='linear'),\n",
    "    ])\n",
    "\n",
    "# Create the target Q^-Network\n",
    "target_q_network = Sequential([\n",
    "    Input(shape=state_size),                       \n",
    "    Dense(units=64, activation='relu'),            \n",
    "    Dense(units=64, activation='relu'),            \n",
    "    Dense(units=num_actions, activation='linear'), \n",
    "    ])\n",
    "\n",
    "optimizer = Adam(learning_rate=ALPHA)                                  \n",
    "``` "
   ]
  },
  {
   "cell_type": "markdown",
   "metadata": {},
   "source": [
    "<a name=\"6.2\"></a>\n",
    "### 6.2 Experience Replay\n",
    "\n",
    "When an agent interacts with the environment, the states, actions, and rewards the agent experiences are sequential by nature. If the agent tries to learn from these consecutive experiences it can run into problems due to the strong correlations between them. To avoid this, we employ a technique known as **Experience Replay** to generate uncorrelated experiences for training our agent. Experience replay consists of storing the agent's experiences (i.e the states, actions, and rewards the agent receives) in a memory buffer and then sampling a random mini-batch of experiences from the buffer to do the learning. The experience tuples $(S_t, A_t, R_t, S_{t+1})$ will be added to the memory buffer at each time step as the agent interacts with the environment.\n",
    "\n",
    "For convenience, we will store the experiences as named tuples."
   ]
  },
  {
   "cell_type": "code",
   "execution_count": 25,
   "metadata": {
    "deletable": false,
    "editable": false
   },
   "outputs": [],
   "source": [
    "# Store experiences as named tuples\n",
    "experience = namedtuple(\"Experience\", field_names=[\"state\", \"action\", \"reward\", \"next_state\", \"done\"])"
   ]
  },
  {
   "cell_type": "markdown",
   "metadata": {},
   "source": [
    "By using experience replay we avoid problematic correlations, oscillations and instabilities. In addition, experience replay also allows the agent to potentially use the same experience in multiple weight updates, which increases data efficiency."
   ]
  },
  {
   "cell_type": "markdown",
   "metadata": {},
   "source": [
    "<a name=\"7\"></a>\n",
    "## 7 - Deep Q-Learning Algorithm with Experience Replay\n",
    "\n",
    "Now that we know all the techniques that we are going to use, we can put them together to arrive at the Deep Q-Learning Algorithm With Experience Replay.\n",
    "<br>\n",
    "<br>\n",
    "<figure>\n",
    "  <img src = \"images/deep_q_algorithm.png\" width = 90% style = \"border: thin silver solid; padding: 0px\">\n",
    "      <figcaption style = \"text-align: center; font-style: italic\">Fig 3. Deep Q-Learning with Experience Replay.</figcaption>\n",
    "</figure>"
   ]
  },
  {
   "cell_type": "markdown",
   "metadata": {},
   "source": [
    "<a name=\"ex02\"></a>\n",
    "### Exercise 2\n",
    "\n",
    "In this exercise you will implement line ***12*** of the algorithm outlined in *Fig 3* above and you will also compute the loss between the $y$ targets and the $Q(s,a)$ values. In the cell below, complete the `compute_loss` function by setting the $y$ targets equal to:\n",
    "\n",
    "$$\n",
    "\\begin{equation}\n",
    "    y_j =\n",
    "    \\begin{cases}\n",
    "      R_j & \\text{if episode terminates at step  } j+1\\\\\n",
    "      R_j + \\gamma \\max_{a'}\\hat{Q}(s_{j+1},a') & \\text{otherwise}\\\\\n",
    "    \\end{cases}       \n",
    "\\end{equation}\n",
    "$$\n",
    "\n",
    "Here are a couple of things to note:\n",
    "\n",
    "* The `compute_loss` function takes in a mini-batch of experience tuples. This mini-batch of experience tuples is unpacked to extract the `states`, `actions`, `rewards`, `next_states`, and `done_vals`. You should keep in mind that these variables are *TensorFlow Tensors* whose size will depend on the mini-batch size. For example, if the mini-batch size is `64` then both `rewards` and `done_vals` will be TensorFlow Tensors with `64` elements.\n",
    "\n",
    "\n",
    "* Using `if/else` statements to set the $y$ targets will not work when the variables are tensors with many elements. However, notice that you can use the `done_vals` to implement the above in a single line of code. To do this, recall that the `done` variable is a Boolean variable that takes the value `True` when an episode terminates at step $j+1$ and it is `False` otherwise. Taking into account that a Boolean value of `True` has the numerical value of `1` and a Boolean value of `False` has the numerical value of `0`, you can use the factor `(1 - done_vals)` to implement the above in a single line of code. Here's a hint: notice that `(1 - done_vals)` has a value of `0` when `done_vals` is `True` and a value of `1` when `done_vals` is `False`. \n",
    "\n",
    "Lastly, compute the loss by calculating the Mean-Squared Error (`MSE`) between the `y_targets` and the `q_values`. To calculate the mean-squared error you should use the already imported package `MSE`:\n",
    "```python\n",
    "from tensorflow.keras.losses import MSE\n",
    "```"
   ]
  },
  {
   "cell_type": "code",
   "execution_count": 26,
   "metadata": {
    "deletable": false
   },
   "outputs": [],
   "source": [
    "# UNQ_C2\n",
    "# GRADED FUNCTION: calculate_loss\n",
    "\n",
    "def compute_loss(experiences, gamma, q_network, target_q_network):\n",
    "    \"\"\" \n",
    "    Calculates the loss.\n",
    "    \n",
    "    Args:\n",
    "      experiences: (tuple) tuple of [\"state\", \"action\", \"reward\", \"next_state\", \"done\"] namedtuples\n",
    "      gamma: (float) The discount factor.\n",
    "      q_network: (tf.keras.Sequential) Keras model for predicting the q_values\n",
    "      target_q_network: (tf.keras.Sequential) Karas model for predicting the targets\n",
    "          \n",
    "    Returns:\n",
    "      loss: (TensorFlow Tensor(shape=(0,), dtype=int32)) the Mean-Squared Error between\n",
    "            the y targets and the Q(s,a) values.\n",
    "    \"\"\"\n",
    "    \n",
    "    # Unpack the mini-batch of experience tuples\n",
    "    states, actions, rewards, next_states, done_vals = experiences\n",
    "    \n",
    "    # Compute max Q^(s,a)\n",
    "    max_qsa = tf.reduce_max(target_q_network(next_states), axis=-1)\n",
    "    \n",
    "    # Set y = R if episode terminates, otherwise set y = R + γ max Q^(s,a).\n",
    "    ### START CODE HERE ### \n",
    "    y_targets = rewards + (gamma * max_qsa * (1 - done_vals))\n",
    "    ### END CODE HERE ###\n",
    "    \n",
    "    # Get the q_values\n",
    "    q_values = q_network(states)\n",
    "    q_values = tf.gather_nd(q_values, tf.stack([tf.range(q_values.shape[0]),\n",
    "                                                tf.cast(actions, tf.int32)], axis=1))\n",
    "        \n",
    "    # Compute the loss\n",
    "    ### START CODE HERE ### \n",
    "    loss = MSE(y_targets, q_values)\n",
    "    ### END CODE HERE ### \n",
    "    \n",
    "    return loss"
   ]
  },
  {
   "cell_type": "code",
   "execution_count": 27,
   "metadata": {
    "deletable": false,
    "editable": false
   },
   "outputs": [
    {
     "name": "stdout",
     "output_type": "stream",
     "text": [
      "\u001b[92mAll tests passed!\n"
     ]
    }
   ],
   "source": [
    "# UNIT TEST    \n",
    "test_compute_loss(compute_loss)"
   ]
  },
  {
   "cell_type": "markdown",
   "metadata": {},
   "source": [
    "<details>\n",
    "  <summary><font size=\"3\" color=\"darkgreen\"><b>Click for hints</b></font></summary>\n",
    "    \n",
    "```python\n",
    "def compute_loss(experiences, gamma, q_network, target_q_network):\n",
    "    \"\"\" \n",
    "    Calculates the loss.\n",
    "    \n",
    "    Args:\n",
    "      experiences: (tuple) tuple of [\"state\", \"action\", \"reward\", \"next_state\", \"done\"] namedtuples\n",
    "      gamma: (float) The discount factor.\n",
    "      q_network: (tf.keras.Sequential) Keras model for predicting the q_values\n",
    "      target_q_network: (tf.keras.Sequential) Keras model for predicting the targets\n",
    "          \n",
    "    Returns:\n",
    "      loss: (TensorFlow Tensor(shape=(0,), dtype=int32)) the Mean-Squared Error between\n",
    "            the y targets and the Q(s,a) values.\n",
    "    \"\"\"\n",
    "\n",
    "    \n",
    "    # Unpack the mini-batch of experience tuples\n",
    "    states, actions, rewards, next_states, done_vals = experiences\n",
    "    \n",
    "    # Compute max Q^(s,a)\n",
    "    max_qsa = tf.reduce_max(target_q_network(next_states), axis=-1)\n",
    "    \n",
    "    # Set y = R if episode terminates, otherwise set y = R + γ max Q^(s,a).\n",
    "    y_targets = rewards + (gamma * max_qsa * (1 - done_vals))\n",
    "    \n",
    "    # Get the q_values\n",
    "    q_values = q_network(states)\n",
    "    q_values = tf.gather_nd(q_values, tf.stack([tf.range(q_values.shape[0]),\n",
    "                                                tf.cast(actions, tf.int32)], axis=1))\n",
    "    \n",
    "    # Calculate the loss\n",
    "    loss = MSE(y_targets, q_values)\n",
    "    \n",
    "    return loss\n",
    "\n",
    "``` \n",
    "    "
   ]
  },
  {
   "cell_type": "markdown",
   "metadata": {},
   "source": [
    "<a name=\"8\"></a>\n",
    "## 8 - Update the Network Weights\n",
    "\n",
    "We will use the `agent_learn` function below to implement lines ***12 -14*** of the algorithm outlined in [Fig 3](#7). The `agent_learn` function will update the weights of the $Q$ and target $\\hat Q$ networks using a custom training loop. Because we are using a custom training loop we need to retrieve the gradients via a `tf.GradientTape` instance, and then call `optimizer.apply_gradients()` to update the weights of our $Q$-Network. Note that we are also using the `@tf.function` decorator to increase performance. Without this decorator our training will take twice as long. If you would like to know more about how to increase performance with `@tf.function` take a look at the [TensorFlow documentation](https://www.tensorflow.org/guide/function).\n",
    "\n",
    "The last line of this function updates the weights of the target $\\hat Q$-Network using a [soft update](#6.1). If you want to know how this is implemented in code we encourage you to take a look at the `utils.update_target_network` function in the `utils` module."
   ]
  },
  {
   "cell_type": "code",
   "execution_count": 28,
   "metadata": {
    "deletable": false,
    "editable": false
   },
   "outputs": [],
   "source": [
    "@tf.function\n",
    "def agent_learn(experiences, gamma):\n",
    "    \"\"\"\n",
    "    Updates the weights of the Q networks.\n",
    "    \n",
    "    Args:\n",
    "      experiences: (tuple) tuple of [\"state\", \"action\", \"reward\", \"next_state\", \"done\"] namedtuples\n",
    "      gamma: (float) The discount factor.\n",
    "    \n",
    "    \"\"\"\n",
    "    \n",
    "    # Calculate the loss\n",
    "    with tf.GradientTape() as tape:\n",
    "        loss = compute_loss(experiences, gamma, q_network, target_q_network)\n",
    "\n",
    "    # Get the gradients of the loss with respect to the weights.\n",
    "    gradients = tape.gradient(loss, q_network.trainable_variables)\n",
    "    \n",
    "    # Update the weights of the q_network.\n",
    "    optimizer.apply_gradients(zip(gradients, q_network.trainable_variables))\n",
    "\n",
    "    # update the weights of target q_network\n",
    "    utils.update_target_network(q_network, target_q_network)"
   ]
  },
  {
   "cell_type": "markdown",
   "metadata": {},
   "source": [
    "<a name=\"9\"></a>\n",
    "## 9 - Train the Agent\n",
    "\n",
    "We are now ready to train our agent to solve the Lunar Lander environment. In the cell below we will implement the algorithm in [Fig 3](#7) line by line (please note that we have included the same algorithm below for easy reference. This will prevent you from scrolling up and down the notebook):\n",
    "\n",
    "* **Line 1**: We initialize the `memory_buffer` with a capacity of $N =$ `MEMORY_SIZE`. Notice that we are using a `deque` as the data structure for our `memory_buffer`.\n",
    "\n",
    "\n",
    "* **Line 2**: We skip this line since we already initialized the `q_network` in [Exercise 1](#ex01).\n",
    "\n",
    "\n",
    "* **Line 3**: We initialize the `target_q_network` by setting its weights to be equal to those of the `q_network`.\n",
    "\n",
    "\n",
    "* **Line 4**: We start the outer loop. Notice that we have set $M =$ `num_episodes = 2000`. This number is reasonable because the agent should be able to solve the Lunar Lander environment in less than `2000` episodes using this notebook's default parameters.\n",
    "\n",
    "\n",
    "* **Line 5**: We use the `.reset()` method to reset the environment to the initial state and get the initial state.\n",
    "\n",
    "\n",
    "* **Line 6**: We start the inner loop. Notice that we have set $T =$ `max_num_timesteps = 1000`. This means that the episode will automatically terminate if the episode hasn't terminated after `1000` time steps.\n",
    "\n",
    "\n",
    "* **Line 7**: The agent observes the current `state` and chooses an `action` using an $\\epsilon$-greedy policy. Our agent starts out using a value of $\\epsilon =$ `epsilon = 1` which yields an $\\epsilon$-greedy policy that is equivalent to the equiprobable random policy. This means that at the beginning of our training, the agent is just going to take random actions regardless of the observed `state`. As training progresses we will decrease the value of $\\epsilon$ slowly towards a minimum value using a given $\\epsilon$-decay rate. We want this minimum value to be close to zero because a value of $\\epsilon = 0$ will yield an $\\epsilon$-greedy policy that is equivalent to the greedy policy. This means that towards the end of training, the agent will lean towards selecting the `action` that it believes (based on its past experiences) will maximize $Q(s,a)$. We will set the minimum $\\epsilon$ value to be `0.01` and not exactly 0 because we always want to keep a little bit of exploration during training. If you want to know how this is implemented in code we encourage you to take a look at the `utils.get_action` function in the `utils` module.\n",
    "\n",
    "\n",
    "* **Line 8**: We use the `.step()` method to take the given `action` in the environment and get the `reward` and the `next_state`. \n",
    "\n",
    "\n",
    "* **Line 9**: We store the `experience(state, action, reward, next_state, done)` tuple in our `memory_buffer`. Notice that we also store the `done` variable so that we can keep track of when an episode terminates. This allowed us to set the $y$ targets in [Exercise 2](#ex02).\n",
    "\n",
    "\n",
    "* **Line 10**: We check if the conditions are met to perform a learning update. We do this by using our custom `utils.check_update_conditions` function. This function checks if $C =$ `NUM_STEPS_FOR_UPDATE = 4` time steps have occured and if our `memory_buffer` has enough experience tuples to fill a mini-batch. For example, if the mini-batch size is `64`, then our `memory_buffer` should have more than `64` experience tuples in order to pass the latter condition. If the conditions are met, then the `utils.check_update_conditions` function will return a value of `True`, otherwise it will return a value of `False`.\n",
    "\n",
    "\n",
    "* **Lines 11 - 14**: If the `update` variable is `True` then we perform a learning update. The learning update consists of sampling a random mini-batch of experience tuples from our `memory_buffer`, setting the $y$ targets, performing gradient descent, and updating the weights of the networks. We will use the `agent_learn` function we defined in [Section 8](#8) to perform the latter 3.\n",
    "\n",
    "\n",
    "* **Line 15**: At the end of each iteration of the inner loop we set `next_state` as our new `state` so that the loop can start again from this new state. In addition, we check if the episode has reached a terminal state (i.e we check if `done = True`). If a terminal state has been reached, then we break out of the inner loop.\n",
    "\n",
    "\n",
    "* **Line 16**: At the end of each iteration of the outer loop we update the value of $\\epsilon$, and check if the environment has been solved. We consider that the environment has been solved if the agent receives an average of `200` points in the last `100` episodes. If the environment has not been solved we continue the outer loop and start a new episode.\n",
    "\n",
    "Finally, we wanted to note that we have included some extra variables to keep track of the total number of points the agent received in each episode. This will help us determine if the agent has solved the environment and it will also allow us to see how our agent performed during training. We also use the `time` module to measure how long the training takes. \n",
    "\n",
    "<br>\n",
    "<br>\n",
    "<figure>\n",
    "  <img src = \"images/deep_q_algorithm.png\" width = 90% style = \"border: thin silver solid; padding: 0px\">\n",
    "      <figcaption style = \"text-align: center; font-style: italic\">Fig 4. Deep Q-Learning with Experience Replay.</figcaption>\n",
    "</figure>\n",
    "<br>\n",
    "\n",
    "**Note:** With this notebook's default parameters, the following cell takes between 10 to 15 minutes to run. "
   ]
  },
  {
   "cell_type": "code",
   "execution_count": 29,
   "metadata": {
    "deletable": false,
    "editable": false
   },
   "outputs": [
    {
     "name": "stdout",
     "output_type": "stream",
     "text": [
      "Episode 100 | Total point average of the last 100 episodes: -147.49\n",
      "Episode 200 | Total point average of the last 100 episodes: -110.20\n",
      "Episode 300 | Total point average of the last 100 episodes: -39.302\n",
      "Episode 400 | Total point average of the last 100 episodes: 66.307\n",
      "Episode 500 | Total point average of the last 100 episodes: 129.32\n",
      "Episode 600 | Total point average of the last 100 episodes: 177.14\n",
      "Episode 633 | Total point average of the last 100 episodes: 200.06\n",
      "\n",
      "Environment solved in 633 episodes!\n",
      "\n",
      "Total Runtime: 1049.11 s (17.49 min)\n"
     ]
    }
   ],
   "source": [
    "start = time.time()\n",
    "\n",
    "num_episodes = 2000\n",
    "max_num_timesteps = 1000\n",
    "\n",
    "total_point_history = []\n",
    "\n",
    "num_p_av = 100    # number of total points to use for averaging\n",
    "epsilon = 1.0     # initial ε value for ε-greedy policy\n",
    "\n",
    "# Create a memory buffer D with capacity N\n",
    "memory_buffer = deque(maxlen=MEMORY_SIZE)\n",
    "\n",
    "# Set the target network weights equal to the Q-Network weights\n",
    "target_q_network.set_weights(q_network.get_weights())\n",
    "\n",
    "for i in range(num_episodes):\n",
    "    \n",
    "    # Reset the environment to the initial state and get the initial state\n",
    "    state = env.reset()\n",
    "    total_points = 0\n",
    "    \n",
    "    for t in range(max_num_timesteps):\n",
    "        \n",
    "        # From the current state S choose an action A using an ε-greedy policy\n",
    "        state_qn = np.expand_dims(state, axis=0)  # state needs to be the right shape for the q_network\n",
    "        q_values = q_network(state_qn)\n",
    "        action = utils.get_action(q_values, epsilon)\n",
    "        \n",
    "        # Take action A and receive reward R and the next state S'\n",
    "        next_state, reward, done, _ = env.step(action)\n",
    "        \n",
    "        # Store experience tuple (S,A,R,S') in the memory buffer.\n",
    "        # We store the done variable as well for convenience.\n",
    "        memory_buffer.append(experience(state, action, reward, next_state, done))\n",
    "        \n",
    "        # Only update the network every NUM_STEPS_FOR_UPDATE time steps.\n",
    "        update = utils.check_update_conditions(t, NUM_STEPS_FOR_UPDATE, memory_buffer)\n",
    "        \n",
    "        if update:\n",
    "            # Sample random mini-batch of experience tuples (S,A,R,S') from D\n",
    "            experiences = utils.get_experiences(memory_buffer)\n",
    "            \n",
    "            # Set the y targets, perform a gradient descent step,\n",
    "            # and update the network weights.\n",
    "            agent_learn(experiences, GAMMA)\n",
    "        \n",
    "        state = next_state.copy()\n",
    "        total_points += reward\n",
    "        \n",
    "        if done:\n",
    "            break\n",
    "            \n",
    "    total_point_history.append(total_points)\n",
    "    av_latest_points = np.mean(total_point_history[-num_p_av:])\n",
    "    \n",
    "    # Update the ε value\n",
    "    epsilon = utils.get_new_eps(epsilon)\n",
    "\n",
    "    print(f\"\\rEpisode {i+1} | Total point average of the last {num_p_av} episodes: {av_latest_points:.2f}\", end=\"\")\n",
    "\n",
    "    if (i+1) % num_p_av == 0:\n",
    "        print(f\"\\rEpisode {i+1} | Total point average of the last {num_p_av} episodes: {av_latest_points:.2f}\")\n",
    "\n",
    "    # We will consider that the environment is solved if we get an\n",
    "    # average of 200 points in the last 100 episodes.\n",
    "    if av_latest_points >= 200.0:\n",
    "        print(f\"\\n\\nEnvironment solved in {i+1} episodes!\")\n",
    "        q_network.save('lunar_lander_model.h5')\n",
    "        break\n",
    "        \n",
    "tot_time = time.time() - start\n",
    "\n",
    "print(f\"\\nTotal Runtime: {tot_time:.2f} s ({(tot_time/60):.2f} min)\")"
   ]
  },
  {
   "cell_type": "markdown",
   "metadata": {},
   "source": [
    "We can plot the total point history along with the moving average to see how our agent improved during training. If you want to know about the different plotting options available in the `utils.plot_history` function we encourage you to take a look at the `utils` module."
   ]
  },
  {
   "cell_type": "code",
   "execution_count": 30,
   "metadata": {
    "deletable": false,
    "editable": false,
    "id": "E_EUXxurfe8m",
    "scrolled": false
   },
   "outputs": [
    {
     "data": {
      "image/png": "[encoded data removed]",
      "text/plain": [
       "<Figure size 720x504 with 1 Axes>"
      ]
     },
     "metadata": {},
     "output_type": "display_data"
    }
   ],
   "source": [
    "# Plot the total point history along with the moving average\n",
    "utils.plot_history(total_point_history)"
   ]
  },
  {
   "cell_type": "markdown",
   "metadata": {
    "id": "c_xwgaX5MnYt"
   },
   "source": [
    "<a name=\"10\"></a>\n",
    "## 10 - See the Trained Agent In Action\n",
    "\n",
    "Now that we have trained our agent, we can see it in action. We will use the `utils.create_video` function to create a video of our agent interacting with the environment using the trained $Q$-Network. The `utils.create_video` function uses the `imageio` library to create the video. This library produces some warnings that can be distracting, so, to suppress these warnings we run the code below."
   ]
  },
  {
   "cell_type": "code",
   "execution_count": 31,
   "metadata": {
    "deletable": false,
    "editable": false
   },
   "outputs": [],
   "source": [
    "# Suppress warnings from imageio\n",
    "import logging\n",
    "logging.getLogger().setLevel(logging.ERROR)"
   ]
  },
  {
   "cell_type": "markdown",
   "metadata": {},
   "source": [
    "In the cell below we create a video of our agent interacting with the Lunar Lander environment using the trained `q_network`. The video is saved to the `videos` folder with the given `filename`. We use the `utils.embed_mp4` function to embed the video in the Jupyter Notebook so that we can see it here directly without having to download it.\n",
    "\n",
    "We should note that since the lunar lander starts with a random initial force applied to its center of mass, every time you run the cell below you will see a different video. If the agent was trained properly, it should be able to land the lunar lander in the landing pad every time, regardless of the initial force applied to its center of mass."
   ]
  },
  {
   "cell_type": "code",
   "execution_count": 32,
   "metadata": {
    "deletable": false,
    "editable": false,
    "id": "3Ttb_zLeJKiG"
   },
   "outputs": [
    {
     "data": {
      "text/html": [
       "\n",
       "    <video width=\"840\" height=\"480\" controls>\n",
       "    <source src=\"data:video/mp4;base64,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\" type=\"video/mp4\">\n",
       "    Your browser does not support the video tag.\n",
       "    </video>"
      ],
      "text/plain": [
       "<IPython.core.display.HTML object>"
      ]
     },
     "execution_count": 32,
     "metadata": {},
     "output_type": "execute_result"
    }
   ],
   "source": [
    "filename = \"./videos/lunar_lander.mp4\"\n",
    "\n",
    "utils.create_video(filename, env, q_network)\n",
    "utils.embed_mp4(filename)"
   ]
  },
  {
   "cell_type": "markdown",
   "metadata": {},
   "source": [
    "<a name=\"11\"></a>\n",
    "## 11 - Congratulations!\n",
    "\n",
    "You have successfully used Deep Q-Learning with Experience Replay to train an agent to land a lunar lander safely on a landing pad on the surface of the moon. Congratulations!"
   ]
  },
  {
   "cell_type": "markdown",
   "metadata": {},
   "source": [
    "<a name=\"12\"></a>\n",
    "## 12 - References\n",
    "\n",
    "If you would like to learn more about Deep Q-Learning, we recommend you check out the following papers.\n",
    "\n",
    "\n",
    "* Mnih, V., Kavukcuoglu, K., Silver, D. et al. Human-level control through deep reinforcement learning. Nature 518, 529–533 (2015).\n",
    "\n",
    "\n",
    "* Lillicrap, T. P., Hunt, J. J., Pritzel, A., et al. Continuous Control with Deep Reinforcement Learning. ICLR (2016).\n",
    "\n",
    "\n",
    "* Mnih, V., Kavukcuoglu, K., Silver, D. et al. Playing Atari with Deep Reinforcement Learning. arXiv e-prints.  arXiv:1312.5602 (2013)."
   ]
  },
  {
   "cell_type": "markdown",
   "metadata": {},
   "source": [
    "<details>\n",
    "  <summary><font size=\"2\" color=\"darkgreen\"><b>Please click here if you want to experiment with any of the non-graded code.</b></font></summary>\n",
    "    <p><i><b>Important Note: Please only do this when you've already passed the assignment to avoid problems with the autograder.</b></i>\n",
    "    <ol>\n",
    "        <li> On the notebook’s menu, click “View” > “Cell Toolbar” > “Edit Metadata”</li>\n",
    "        <li> Hit the “Edit Metadata” button next to the code cell which you want to lock/unlock</li>\n",
    "        <li> Set the attribute value for “editable” to:\n",
    "            <ul>\n",
    "                <li> “true” if you want to unlock it </li>\n",
    "                <li> “false” if you want to lock it </li>\n",
    "            </ul>\n",
    "        </li>\n",
    "        <li> On the notebook’s menu, click “View” > “Cell Toolbar” > “None” </li>\n",
    "    </ol>\n",
    "    <p> Here's a short demo of how to do the steps above: \n",
    "        <br>\n",
    "        <img src=\"https://lh3.google.com/u/0/d/14Xy_Mb17CZVgzVAgq7NCjMVBvSae3xO1\" align=\"center\" alt=\"unlock_cells.gif\">\n",
    "</details>"
   ]
  }
 ],
 "metadata": {
  "accelerator": "GPU",
  "colab": {
   "collapsed_sections": [],
   "name": "TensorFlow - Lunar Lander.ipynb",
   "provenance": []
  },
  "kernelspec": {
   "display_name": "Python 3",
   "language": "python",
   "name": "python3"
  },
  "language_info": {
   "codemirror_mode": {
    "name": "ipython",
    "version": 3
   },
   "file_extension": ".py",
   "mimetype": "text/x-python",
   "name": "python",
   "nbconvert_exporter": "python",
   "pygments_lexer": "ipython3",
   "version": "3.7.6"
  }
 },
 "nbformat": 4,
 "nbformat_minor": 1
}
